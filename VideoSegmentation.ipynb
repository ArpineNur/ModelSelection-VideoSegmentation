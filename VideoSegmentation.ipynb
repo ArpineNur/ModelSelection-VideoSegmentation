{
 "cells": [
  {
   "cell_type": "code",
   "execution_count": 1,
   "id": "sustained-accessory",
   "metadata": {},
   "outputs": [],
   "source": [
    "import json\n",
    "import pandas as pd\n",
    "import seaborn as sns"
   ]
  },
  {
   "cell_type": "markdown",
   "id": "decent-belle",
   "metadata": {},
   "source": [
    "# Making a dataset\n",
    "Extracting information from files and making dataset"
   ]
  },
  {
   "cell_type": "code",
   "execution_count": 2,
   "id": "disciplinary-protocol",
   "metadata": {},
   "outputs": [],
   "source": [
    "model_r = []\n",
    "persons = []\n",
    "with open('Released_Score.log') as f:\n",
    "    for line in f.readlines():\n",
    "        try:\n",
    "            filename, _, score = line.split()\n",
    "        except ValueError:\n",
    "            continue\n",
    "        filename = filename.split('/')[4]\n",
    "        persons.append(filename)\n",
    "        model_r.append(float(score))"
   ]
  },
  {
   "cell_type": "code",
   "execution_count": 3,
   "id": "common-trouble",
   "metadata": {},
   "outputs": [],
   "source": [
    "models = []\n",
    "file_names = ['Model1_Score.log','Model2_Score.log','Model3_Score.log']\n",
    "for file in file_names:\n",
    "    model = []\n",
    "    with open(file) as f:\n",
    "        for line in f.readlines():\n",
    "            try:\n",
    "                _, _, score = line.split()\n",
    "            except ValueError:\n",
    "                continue\n",
    "            model.append(float(score))\n",
    "    models.append(model)"
   ]
  },
  {
   "cell_type": "code",
   "execution_count": 4,
   "id": "developed-chaos",
   "metadata": {},
   "outputs": [
    {
     "data": {
      "text/html": [
       "<div>\n",
       "<style scoped>\n",
       "    .dataframe tbody tr th:only-of-type {\n",
       "        vertical-align: middle;\n",
       "    }\n",
       "\n",
       "    .dataframe tbody tr th {\n",
       "        vertical-align: top;\n",
       "    }\n",
       "\n",
       "    .dataframe thead th {\n",
       "        text-align: right;\n",
       "    }\n",
       "</style>\n",
       "<table border=\"1\" class=\"dataframe\">\n",
       "  <thead>\n",
       "    <tr style=\"text-align: right;\">\n",
       "      <th></th>\n",
       "      <th>person</th>\n",
       "      <th>score_r</th>\n",
       "      <th>score_1</th>\n",
       "      <th>score_2</th>\n",
       "      <th>score_3</th>\n",
       "    </tr>\n",
       "  </thead>\n",
       "  <tbody>\n",
       "    <tr>\n",
       "      <th>0</th>\n",
       "      <td>man14</td>\n",
       "      <td>0.979097</td>\n",
       "      <td>0.972658</td>\n",
       "      <td>0.971708</td>\n",
       "      <td>0.973197</td>\n",
       "    </tr>\n",
       "    <tr>\n",
       "      <th>1</th>\n",
       "      <td>man14</td>\n",
       "      <td>0.981674</td>\n",
       "      <td>0.955762</td>\n",
       "      <td>0.976141</td>\n",
       "      <td>0.976397</td>\n",
       "    </tr>\n",
       "    <tr>\n",
       "      <th>2</th>\n",
       "      <td>man14</td>\n",
       "      <td>0.978848</td>\n",
       "      <td>0.969935</td>\n",
       "      <td>0.972269</td>\n",
       "      <td>0.973301</td>\n",
       "    </tr>\n",
       "    <tr>\n",
       "      <th>3</th>\n",
       "      <td>man14</td>\n",
       "      <td>0.980426</td>\n",
       "      <td>0.974519</td>\n",
       "      <td>0.976325</td>\n",
       "      <td>0.974871</td>\n",
       "    </tr>\n",
       "    <tr>\n",
       "      <th>4</th>\n",
       "      <td>man14</td>\n",
       "      <td>0.980022</td>\n",
       "      <td>0.969165</td>\n",
       "      <td>0.972529</td>\n",
       "      <td>0.974813</td>\n",
       "    </tr>\n",
       "    <tr>\n",
       "      <th>...</th>\n",
       "      <td>...</td>\n",
       "      <td>...</td>\n",
       "      <td>...</td>\n",
       "      <td>...</td>\n",
       "      <td>...</td>\n",
       "    </tr>\n",
       "    <tr>\n",
       "      <th>96</th>\n",
       "      <td>woman45</td>\n",
       "      <td>0.939103</td>\n",
       "      <td>0.866210</td>\n",
       "      <td>0.909110</td>\n",
       "      <td>0.895790</td>\n",
       "    </tr>\n",
       "    <tr>\n",
       "      <th>97</th>\n",
       "      <td>woman46</td>\n",
       "      <td>0.976487</td>\n",
       "      <td>0.976499</td>\n",
       "      <td>0.980432</td>\n",
       "      <td>0.981315</td>\n",
       "    </tr>\n",
       "    <tr>\n",
       "      <th>98</th>\n",
       "      <td>woman46</td>\n",
       "      <td>0.983049</td>\n",
       "      <td>0.975573</td>\n",
       "      <td>0.979455</td>\n",
       "      <td>0.977189</td>\n",
       "    </tr>\n",
       "    <tr>\n",
       "      <th>99</th>\n",
       "      <td>man25</td>\n",
       "      <td>0.977677</td>\n",
       "      <td>0.966337</td>\n",
       "      <td>0.973323</td>\n",
       "      <td>0.972189</td>\n",
       "    </tr>\n",
       "    <tr>\n",
       "      <th>100</th>\n",
       "      <td>man25</td>\n",
       "      <td>0.977683</td>\n",
       "      <td>0.974355</td>\n",
       "      <td>0.971080</td>\n",
       "      <td>0.969704</td>\n",
       "    </tr>\n",
       "  </tbody>\n",
       "</table>\n",
       "<p>101 rows × 5 columns</p>\n",
       "</div>"
      ],
      "text/plain": [
       "      person   score_r   score_1   score_2   score_3\n",
       "0      man14  0.979097  0.972658  0.971708  0.973197\n",
       "1      man14  0.981674  0.955762  0.976141  0.976397\n",
       "2      man14  0.978848  0.969935  0.972269  0.973301\n",
       "3      man14  0.980426  0.974519  0.976325  0.974871\n",
       "4      man14  0.980022  0.969165  0.972529  0.974813\n",
       "..       ...       ...       ...       ...       ...\n",
       "96   woman45  0.939103  0.866210  0.909110  0.895790\n",
       "97   woman46  0.976487  0.976499  0.980432  0.981315\n",
       "98   woman46  0.983049  0.975573  0.979455  0.977189\n",
       "99     man25  0.977677  0.966337  0.973323  0.972189\n",
       "100    man25  0.977683  0.974355  0.971080  0.969704\n",
       "\n",
       "[101 rows x 5 columns]"
      ]
     },
     "execution_count": 4,
     "metadata": {},
     "output_type": "execute_result"
    }
   ],
   "source": [
    "df = pd.DataFrame(list(zip(persons, model_r, models[0], models[1], models[2])), columns =['person', 'score_r', 'score_1', 'score_2', 'score_3'])\n",
    "df"
   ]
  },
  {
   "cell_type": "markdown",
   "id": "ignored-tennis",
   "metadata": {},
   "source": [
    "# Dataset visualization"
   ]
  },
  {
   "cell_type": "code",
   "execution_count": 5,
   "id": "complimentary-northeast",
   "metadata": {},
   "outputs": [
    {
     "data": {
      "text/plain": [
       "<AxesSubplot:ylabel='Count'>"
      ]
     },
     "execution_count": 5,
     "metadata": {},
     "output_type": "execute_result"
    },
    {
     "data": {
      "image/png": "[encoded data removed]",
      "text/plain": [
       "<Figure size 432x288 with 1 Axes>"
      ]
     },
     "metadata": {
      "needs_background": "light"
     },
     "output_type": "display_data"
    }
   ],
   "source": [
    "sns.histplot(df)"
   ]
  },
  {
   "cell_type": "code",
   "execution_count": 6,
   "id": "original-chase",
   "metadata": {},
   "outputs": [
    {
     "data": {
      "text/plain": [
       "<AxesSubplot:xlabel='score_r', ylabel='Count'>"
      ]
     },
     "execution_count": 6,
     "metadata": {},
     "output_type": "execute_result"
    },
    {
     "data": {
      "image/png": "[encoded data removed]",
      "text/plain": [
       "<Figure size 432x288 with 1 Axes>"
      ]
     },
     "metadata": {
      "needs_background": "light"
     },
     "output_type": "display_data"
    }
   ],
   "source": [
    "sns.histplot(df['score_r'])"
   ]
  },
  {
   "cell_type": "code",
   "execution_count": 7,
   "id": "short-solid",
   "metadata": {},
   "outputs": [
    {
     "data": {
      "text/plain": [
       "<AxesSubplot:xlabel='score_1', ylabel='Count'>"
      ]
     },
     "execution_count": 7,
     "metadata": {},
     "output_type": "execute_result"
    },
    {
     "data": {
      "image/png": "[encoded data removed]",
      "text/plain": [
       "<Figure size 432x288 with 1 Axes>"
      ]
     },
     "metadata": {
      "needs_background": "light"
     },
     "output_type": "display_data"
    }
   ],
   "source": [
    "sns.histplot(df['score_1'])"
   ]
  },
  {
   "cell_type": "code",
   "execution_count": 8,
   "id": "unexpected-socket",
   "metadata": {},
   "outputs": [
    {
     "data": {
      "text/plain": [
       "<AxesSubplot:xlabel='score_2', ylabel='Count'>"
      ]
     },
     "execution_count": 8,
     "metadata": {},
     "output_type": "execute_result"
    },
    {
     "data": {
      "image/png": "[encoded data removed]",
      "text/plain": [
       "<Figure size 432x288 with 1 Axes>"
      ]
     },
     "metadata": {
      "needs_background": "light"
     },
     "output_type": "display_data"
    }
   ],
   "source": [
    "sns.histplot(df['score_2'])"
   ]
  },
  {
   "cell_type": "code",
   "execution_count": 9,
   "id": "developmental-creation",
   "metadata": {},
   "outputs": [
    {
     "data": {
      "text/plain": [
       "<AxesSubplot:xlabel='score_3', ylabel='Count'>"
      ]
     },
     "execution_count": 9,
     "metadata": {},
     "output_type": "execute_result"
    },
    {
     "data": {
      "image/png": "[encoded data removed]",
      "text/plain": [
       "<Figure size 432x288 with 1 Axes>"
      ]
     },
     "metadata": {
      "needs_background": "light"
     },
     "output_type": "display_data"
    }
   ],
   "source": [
    "sns.histplot(df['score_3'])"
   ]
  },
  {
   "cell_type": "markdown",
   "id": "deadly-frost",
   "metadata": {},
   "source": [
    "Lets check if the lower values of each model are the same files."
   ]
  },
  {
   "cell_type": "code",
   "execution_count": 10,
   "id": "minor-affairs",
   "metadata": {},
   "outputs": [
    {
     "data": {
      "text/plain": [
       "67    0.871647\n",
       "68    0.856233\n",
       "70    0.867496\n",
       "74    0.873189\n",
       "82    0.858717\n",
       "93    0.871753\n",
       "94    0.867066\n",
       "Name: score_r, dtype: float64"
      ]
     },
     "execution_count": 10,
     "metadata": {},
     "output_type": "execute_result"
    }
   ],
   "source": [
    "df.score_r[df.score_r < 0.88]"
   ]
  },
  {
   "cell_type": "code",
   "execution_count": 11,
   "id": "going-charles",
   "metadata": {},
   "outputs": [
    {
     "data": {
      "text/plain": [
       "68    0.876849\n",
       "70    0.860822\n",
       "96    0.866210\n",
       "Name: score_1, dtype: float64"
      ]
     },
     "execution_count": 11,
     "metadata": {},
     "output_type": "execute_result"
    }
   ],
   "source": [
    "df.score_1[df.score_1 < 0.88]"
   ]
  },
  {
   "cell_type": "code",
   "execution_count": 12,
   "id": "reserved-burton",
   "metadata": {},
   "outputs": [
    {
     "data": {
      "text/plain": [
       "68    0.867248\n",
       "81    0.844496\n",
       "Name: score_2, dtype: float64"
      ]
     },
     "execution_count": 12,
     "metadata": {},
     "output_type": "execute_result"
    }
   ],
   "source": [
    "df.score_2[df.score_2 < 0.88]"
   ]
  },
  {
   "cell_type": "code",
   "execution_count": 13,
   "id": "hollow-monitoring",
   "metadata": {},
   "outputs": [
    {
     "data": {
      "text/plain": [
       "68    0.866225\n",
       "74    0.879072\n",
       "81    0.835939\n",
       "93    0.877116\n",
       "Name: score_3, dtype: float64"
      ]
     },
     "execution_count": 13,
     "metadata": {},
     "output_type": "execute_result"
    }
   ],
   "source": [
    "df.score_3[df.score_3 < 0.88]"
   ]
  },
  {
   "cell_type": "markdown",
   "id": "initial-cheese",
   "metadata": {},
   "source": [
    "# Comparing models using thresholds\n",
    "We will define several thresholds and see each model prediction count that is "
   ]
  },
  {
   "cell_type": "code",
   "execution_count": 14,
   "id": "wrong-saver",
   "metadata": {},
   "outputs": [],
   "source": [
    "thresholds = [0.85, 0.87, 0.89, 0.91, 0.93, 0.95, 0.97, 0.99]"
   ]
  },
  {
   "cell_type": "code",
   "execution_count": 15,
   "id": "parallel-supply",
   "metadata": {},
   "outputs": [],
   "source": [
    "m_r = []\n",
    "m_1 = []\n",
    "m_2 = []\n",
    "m_3 = []"
   ]
  },
  {
   "cell_type": "code",
   "execution_count": 16,
   "id": "arranged-story",
   "metadata": {},
   "outputs": [],
   "source": [
    "for threshold in thresholds:\n",
    "    m_r.append(df.score_r[df.score_r < threshold].count())\n",
    "    m_1.append(df.score_1[df.score_1 < threshold].count())\n",
    "    m_2.append(df.score_2[df.score_2 < threshold].count())\n",
    "    m_3.append(df.score_3[df.score_3 < threshold].count())"
   ]
  },
  {
   "cell_type": "code",
   "execution_count": 17,
   "id": "sound-chair",
   "metadata": {},
   "outputs": [
    {
     "data": {
      "text/html": [
       "<div>\n",
       "<style scoped>\n",
       "    .dataframe tbody tr th:only-of-type {\n",
       "        vertical-align: middle;\n",
       "    }\n",
       "\n",
       "    .dataframe tbody tr th {\n",
       "        vertical-align: top;\n",
       "    }\n",
       "\n",
       "    .dataframe thead th {\n",
       "        text-align: right;\n",
       "    }\n",
       "</style>\n",
       "<table border=\"1\" class=\"dataframe\">\n",
       "  <thead>\n",
       "    <tr style=\"text-align: right;\">\n",
       "      <th></th>\n",
       "      <th>thresholds</th>\n",
       "      <th>Model released</th>\n",
       "      <th>Model 1</th>\n",
       "      <th>Model 2</th>\n",
       "      <th>Model 3</th>\n",
       "    </tr>\n",
       "  </thead>\n",
       "  <tbody>\n",
       "    <tr>\n",
       "      <th>0</th>\n",
       "      <td>0.85</td>\n",
       "      <td>0</td>\n",
       "      <td>0</td>\n",
       "      <td>1</td>\n",
       "      <td>1</td>\n",
       "    </tr>\n",
       "    <tr>\n",
       "      <th>1</th>\n",
       "      <td>0.87</td>\n",
       "      <td>4</td>\n",
       "      <td>2</td>\n",
       "      <td>2</td>\n",
       "      <td>2</td>\n",
       "    </tr>\n",
       "    <tr>\n",
       "      <th>2</th>\n",
       "      <td>0.89</td>\n",
       "      <td>7</td>\n",
       "      <td>3</td>\n",
       "      <td>4</td>\n",
       "      <td>5</td>\n",
       "    </tr>\n",
       "    <tr>\n",
       "      <th>3</th>\n",
       "      <td>0.91</td>\n",
       "      <td>7</td>\n",
       "      <td>7</td>\n",
       "      <td>7</td>\n",
       "      <td>10</td>\n",
       "    </tr>\n",
       "    <tr>\n",
       "      <th>4</th>\n",
       "      <td>0.93</td>\n",
       "      <td>9</td>\n",
       "      <td>14</td>\n",
       "      <td>14</td>\n",
       "      <td>17</td>\n",
       "    </tr>\n",
       "    <tr>\n",
       "      <th>5</th>\n",
       "      <td>0.95</td>\n",
       "      <td>22</td>\n",
       "      <td>30</td>\n",
       "      <td>30</td>\n",
       "      <td>31</td>\n",
       "    </tr>\n",
       "    <tr>\n",
       "      <th>6</th>\n",
       "      <td>0.97</td>\n",
       "      <td>64</td>\n",
       "      <td>77</td>\n",
       "      <td>73</td>\n",
       "      <td>73</td>\n",
       "    </tr>\n",
       "    <tr>\n",
       "      <th>7</th>\n",
       "      <td>0.99</td>\n",
       "      <td>101</td>\n",
       "      <td>101</td>\n",
       "      <td>101</td>\n",
       "      <td>101</td>\n",
       "    </tr>\n",
       "  </tbody>\n",
       "</table>\n",
       "</div>"
      ],
      "text/plain": [
       "   thresholds  Model released  Model 1  Model 2  Model 3\n",
       "0        0.85               0        0        1        1\n",
       "1        0.87               4        2        2        2\n",
       "2        0.89               7        3        4        5\n",
       "3        0.91               7        7        7       10\n",
       "4        0.93               9       14       14       17\n",
       "5        0.95              22       30       30       31\n",
       "6        0.97              64       77       73       73\n",
       "7        0.99             101      101      101      101"
      ]
     },
     "execution_count": 17,
     "metadata": {},
     "output_type": "execute_result"
    }
   ],
   "source": [
    "df_t = pd.DataFrame(list(zip(thresholds, m_r, m_1, m_2, m_3)), columns =['thresholds', 'Model released', 'Model 1', 'Model 2', 'Model 3'])\n",
    "df_t"
   ]
  },
  {
   "cell_type": "markdown",
   "id": "cutting-still",
   "metadata": {},
   "source": [
    "From here we can see that the Released model is not neccesarraly the best -> if we take a look at threshold 0.89 we can see that there are 7 records that are below the threshold in released model. In the higher thresholds it performes better but if it has already low scores it cannot be considered the best. So we will choose from other 3 models."
   ]
  },
  {
   "cell_type": "markdown",
   "id": "gothic-preserve",
   "metadata": {},
   "source": [
    "# Maximum score per file\n",
    "We will check which model result the maximum score for each file."
   ]
  },
  {
   "cell_type": "code",
   "execution_count": 18,
   "id": "pharmaceutical-flesh",
   "metadata": {},
   "outputs": [
    {
     "data": {
      "text/plain": [
       "score_r    69\n",
       "score_1    15\n",
       "score_3    13\n",
       "score_2     4\n",
       "dtype: int64"
      ]
     },
     "execution_count": 18,
     "metadata": {},
     "output_type": "execute_result"
    }
   ],
   "source": [
    "df[['score_r', 'score_1', 'score_2', 'score_3']].idxmax(axis=1).value_counts()"
   ]
  },
  {
   "cell_type": "markdown",
   "id": "considerable-chassis",
   "metadata": {},
   "source": [
    "We can see that the released model's predictions are better, but as we see that it has some really low values (and it is worse in terms of CPU usage) we will check the maximum score without the Released model."
   ]
  },
  {
   "cell_type": "code",
   "execution_count": 19,
   "id": "built-antigua",
   "metadata": {},
   "outputs": [
    {
     "data": {
      "text/plain": [
       "score_1    41\n",
       "score_2    31\n",
       "score_3    29\n",
       "dtype: int64"
      ]
     },
     "execution_count": 19,
     "metadata": {},
     "output_type": "execute_result"
    }
   ],
   "source": [
    "df[['score_1', 'score_2', 'score_3']].idxmax(axis=1).value_counts()"
   ]
  },
  {
   "cell_type": "markdown",
   "id": "conservative-pavilion",
   "metadata": {},
   "source": [
    "The values are close, but we can see that the first model performes the best."
   ]
  },
  {
   "cell_type": "code",
   "execution_count": null,
   "id": "brilliant-price",
   "metadata": {},
   "outputs": [],
   "source": []
  }
 ],
 "metadata": {
  "kernelspec": {
   "display_name": "Python 3",
   "language": "python",
   "name": "python3"
  },
  "language_info": {
   "codemirror_mode": {
    "name": "ipython",
    "version": 3
   },
   "file_extension": ".py",
   "mimetype": "text/x-python",
   "name": "python",
   "nbconvert_exporter": "python",
   "pygments_lexer": "ipython3",
   "version": "3.8.6rc1"
  }
 },
 "nbformat": 4,
 "nbformat_minor": 5
}
